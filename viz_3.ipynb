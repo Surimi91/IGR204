{
 "cells": [
  {
   "cell_type": "code",
   "execution_count": 1,
   "metadata": {},
   "outputs": [],
   "source": [
    "import altair as alt\n",
    "import pandas as pd\n",
    "import geopandas as gpd # Requires geopandas -- e.g.: conda install -c conda-forge geopandas\n",
    "import toolz\n",
    "\n",
    "import ipywidgets as widgets\n",
    "from ipywidgets import interactive, VBox, HBox\n",
    "from IPython.display import display, clear_output\n",
    "\n",
    "import os\n",
    "\n",
    "def custom(data):\n",
    "    return toolz.curried.pipe(data, alt.to_json(filename='altdata/{prefix}-{hash}.{extension}') )\n",
    "alt.data_transformers.register('custom', custom)\n",
    "alt.data_transformers.enable('custom')\n",
    "\n",
    "pass"
   ]
  },
  {
   "cell_type": "code",
   "execution_count": 2,
   "metadata": {},
   "outputs": [],
   "source": [
    "df = pd.read_csv(\"dpt2020.csv\", sep=\";\")\n",
    "df.drop(df[df.preusuel == '_PRENOMS_RARES'].index, inplace=True)\n",
    "df.drop(df[df.dpt == 'XX'].index, inplace=True)\n",
    "df['annais'] = df['annais'].astype(int)\n",
    "df['nombre'] = df['nombre'].astype(int)\n",
    "df['sexe'] = df['sexe'].replace({1: 'M', 2: 'F'})\n",
    "df = df.rename(columns={\"annais\": \"annee\"})"
   ]
  },
  {
   "cell_type": "code",
   "execution_count": 34,
   "metadata": {},
   "outputs": [],
   "source": [
    "def createHistogram(starting_year, ending_year):\n",
    "\n",
    "    if starting_year > ending_year: starting_year, ending_year = ending_year, starting_year\n",
    "\n",
    "    df_filtered = df[(df['annee'] >= starting_year) & (df['annee'] <= ending_year)]\n",
    "\n",
    "    number_of_names = 300\n",
    "\n",
    "    # Aggréger les données par prénom et sexe\n",
    "    df_aggregated = df_filtered.groupby(['preusuel', 'sexe'], as_index=False)['nombre'].sum()\n",
    "\n",
    "    # Sélection des 10 prénoms les plus populaires pour les garçons\n",
    "    top_boys = df_aggregated[df_aggregated['sexe'] == 'M'].nlargest(number_of_names, 'nombre')\n",
    "\n",
    "    # Sélection des 10 prénoms les plus populaires pour les filles\n",
    "    top_girls = df_aggregated[df_aggregated['sexe'] == 'F'].nlargest(number_of_names, 'nombre')\n",
    "\n",
    "    top_boys = top_boys.sort_values(by='nombre', ascending=False)\n",
    "    top_girls = top_girls.sort_values(by='nombre', ascending=False)\n",
    "\n",
    "    top_boys['nombre'] = top_boys['nombre'] / df_aggregated[df_aggregated['sexe'] == 'M']['nombre'].sum()\n",
    "    top_girls['nombre'] = top_girls['nombre'] / df_aggregated[df_aggregated['sexe'] == 'F']['nombre'].sum()\n",
    "\n",
    "    # creating data \n",
    "    boys_list = top_boys['nombre'].tolist()\n",
    "    girls_list = top_girls['nombre'].tolist()\n",
    "\n",
    "    boys_names = top_boys['preusuel'].tolist()\n",
    "    girls_names = top_girls['preusuel'].tolist()\n",
    "\n",
    "    boys_list += [0] * (number_of_names - len(boys_list))\n",
    "    girls_list += [0] * (number_of_names - len(girls_list))\n",
    "    \n",
    "    boys_names += [''] * (number_of_names - len(boys_names))\n",
    "    girls_names += [''] * (number_of_names - len(girls_names))\n",
    "\n",
    "    # creating data \n",
    "    df_overlap = pd.DataFrame({\n",
    "        'Rank': list(range(1, number_of_names + 1)),\n",
    "        'Boys': boys_list, \n",
    "        'Girls': girls_list,\n",
    "        'Boys_Names': boys_names,\n",
    "        'Girls_Names': girls_names\n",
    "    })\n",
    "\n",
    "    # Overlapping Histograms \n",
    "    chart = alt.Chart(df_overlap).transform_fold( \n",
    "        ['Boys', 'Girls'], \n",
    "        as_=['Columns', 'Values'] \n",
    "    ).mark_area( \n",
    "        opacity=0.5, \n",
    "        interpolate='step'\n",
    "    ).encode( \n",
    "        alt.X('Rank:Q', title='Rank'), \n",
    "        alt.Y('Values:Q', stack=None, scale=alt.Scale(type='log'), title='Percentage compared to all boys or girls', axis=alt.Axis(format='%')), \n",
    "        color=alt.Color('Columns:N', scale=alt.Scale(domain=['Boys', 'Girls'], range=['blue', 'pink'])),\n",
    "        tooltip=[\n",
    "            alt.Tooltip('Rank:Q', title='Rank'), \n",
    "            alt.Tooltip('Boys_Names:N', title='Boy Name'), \n",
    "            alt.Tooltip('Girls_Names:N', title='Girl Name'), \n",
    "            alt.Tooltip('Boys:Q', title='Boys', format='%'), \n",
    "            alt.Tooltip('Girls:Q', title='Girls', format='%')\n",
    "                 ]\n",
    "    ).properties(\n",
    "        width='container',\n",
    "        title=f'Distribution of baby names from year {starting_year} to {ending_year}'\n",
    "    )\n",
    "\n",
    "    return chart"
   ]
  },
  {
   "cell_type": "code",
   "execution_count": 35,
   "metadata": {},
   "outputs": [
    {
     "data": {
      "application/vnd.jupyter.widget-view+json": {
       "model_id": "a9977a43a92645c99ca599f9bb978293",
       "version_major": 2,
       "version_minor": 0
      },
      "text/plain": [
       "VBox(children=(HBox(children=(IntSlider(value=2000, description='Start Year', max=2020, min=1900), IntSlider(v…"
      ]
     },
     "metadata": {},
     "output_type": "display_data"
    }
   ],
   "source": [
    "# Les sliders interactifs pour choisir les années de début et de fin\n",
    "start_year_slider = widgets.IntSlider(value=2000, min=1900, max=2020, step=1, description='Start Year')\n",
    "end_year_slider = widgets.IntSlider(value=2010, min=1900, max=2020, step=1, description='End Year')\n",
    "\n",
    "# Conteneur pour le graphique\n",
    "output = widgets.Output()\n",
    "\n",
    "\n",
    "def update_chart(starting_year, ending_year):\n",
    "    with output:\n",
    "        clear_output(wait=True)\n",
    "        chart = createHistogram(starting_year, ending_year)\n",
    "        display(chart)\n",
    "\n",
    "# Configurer l'interaction\n",
    "interactive_plot = interactive(update_chart, starting_year=start_year_slider, ending_year=end_year_slider)\n",
    "\n",
    "# Layout pour éviter la duplication des widgets\n",
    "layout = VBox([HBox([start_year_slider, end_year_slider]), output])\n",
    "\n",
    "# Affichage\n",
    "display(layout)\n",
    "\n",
    "# Initialiser le graphique avec les valeurs par défaut\n",
    "update_chart(start_year_slider.value, end_year_slider.value)"
   ]
  }
 ],
 "metadata": {
  "kernelspec": {
   "display_name": "Python 3",
   "language": "python",
   "name": "python3"
  },
  "language_info": {
   "codemirror_mode": {
    "name": "ipython",
    "version": 3
   },
   "file_extension": ".py",
   "mimetype": "text/x-python",
   "name": "python",
   "nbconvert_exporter": "python",
   "pygments_lexer": "ipython3",
   "version": "3.10.11"
  }
 },
 "nbformat": 4,
 "nbformat_minor": 2
}
